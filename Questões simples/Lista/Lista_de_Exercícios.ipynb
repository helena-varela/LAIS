{
  "nbformat": 4,
  "nbformat_minor": 0,
  "metadata": {
    "colab": {
      "provenance": [],
      "authorship_tag": "ABX9TyPh0/9jdfQa3moIW4IqYsHT"
    },
    "kernelspec": {
      "name": "python3",
      "display_name": "Python 3"
    },
    "language_info": {
      "name": "python"
    }
  },
  "cells": [
    {
      "cell_type": "markdown",
      "source": [
        "**Questão 01**"
      ],
      "metadata": {
        "id": "-iKpYe8fvoEC"
      }
    },
    {
      "cell_type": "code",
      "execution_count": null,
      "metadata": {
        "colab": {
          "base_uri": "https://localhost:8080/"
        },
        "id": "s_tAv-xi6yUV",
        "outputId": "1cb36282-bd70-4922-9207-f1570d21f650"
      },
      "outputs": [
        {
          "output_type": "stream",
          "name": "stdout",
          "text": [
            "Qual o seu peso? 45\n",
            "Qual a sua altura? 1.53\n",
            "19.223375624759708\n"
          ]
        }
      ],
      "source": [
        "peso = int(input(\"Qual o seu peso? \"))\n",
        "altura = float(input(\"Qual a sua altura? \"))\n",
        "imc = peso/(altura**2)\n",
        "print(imc)"
      ]
    },
    {
      "cell_type": "markdown",
      "source": [
        "**Questão 02**"
      ],
      "metadata": {
        "id": "JR29EUqtwjsk"
      }
    },
    {
      "cell_type": "code",
      "source": [
        "fa = float(input(\"Temperatura em fahrenheit: \"))\n",
        "conversao = (fa - 32)//1.8\n",
        "print(f\"em celsius: {conversao}\")"
      ],
      "metadata": {
        "colab": {
          "base_uri": "https://localhost:8080/"
        },
        "id": "m-jb8fcN7yKY",
        "outputId": "d2da1af2-1f50-440d-df9f-8992142ab0f9"
      },
      "execution_count": null,
      "outputs": [
        {
          "output_type": "stream",
          "name": "stdout",
          "text": [
            "Temperatura em fahrenheit: 70\n",
            "em celsius: 21.0\n"
          ]
        }
      ]
    },
    {
      "cell_type": "markdown",
      "source": [
        "**Questão 03**"
      ],
      "metadata": {
        "id": "QOuOb8pgwgny"
      }
    },
    {
      "cell_type": "code",
      "source": [
        "frequencia = int(input(\"frequencia cardiaca: \"))\n",
        "if 60 <= frequencia <= 100:\n",
        "  print(\"Normal\")\n",
        "else:\n",
        "  print(\"Anormal\")"
      ],
      "metadata": {
        "colab": {
          "base_uri": "https://localhost:8080/"
        },
        "id": "Hr4LgwmS9E7O",
        "outputId": "a92b9f6d-4c00-4bb3-d2b6-4bfb4a7a33b4"
      },
      "execution_count": null,
      "outputs": [
        {
          "output_type": "stream",
          "name": "stdout",
          "text": [
            "frequencia cardiaca: 101\n",
            "Anormal\n"
          ]
        }
      ]
    },
    {
      "cell_type": "markdown",
      "source": [],
      "metadata": {
        "id": "zcafojipwpUJ"
      }
    },
    {
      "cell_type": "markdown",
      "source": [
        "**Questão 04**"
      ],
      "metadata": {
        "id": "pIlCYtrawpqs"
      }
    },
    {
      "cell_type": "code",
      "source": [
        "leucocitos = int(input(\"quantidade de leucócitos por mm^3: \"))\n",
        "\n",
        "if leucocitos > 11000:\n",
        "  print(\"Infecção\")\n",
        "else:\n",
        "  print(\"Normal\")"
      ],
      "metadata": {
        "colab": {
          "base_uri": "https://localhost:8080/"
        },
        "id": "eCZj2YR69hyA",
        "outputId": "886e5d90-f977-47f0-bbb1-93c56aaac596"
      },
      "execution_count": null,
      "outputs": [
        {
          "output_type": "stream",
          "name": "stdout",
          "text": [
            "quantidade de leucócitos por mm^3: 11001\n",
            "Infecção\n"
          ]
        }
      ]
    },
    {
      "cell_type": "markdown",
      "source": [
        "**Questão 05**"
      ],
      "metadata": {
        "id": "6af-gJY-wtsG"
      }
    },
    {
      "cell_type": "code",
      "source": [
        "nome = input(\"Qual seu nome? \")\n",
        "idade = int(input(\"Qual a sua idade? \"))\n",
        "print(f\"Paciente {nome} tem {idade} anos.\")"
      ],
      "metadata": {
        "colab": {
          "base_uri": "https://localhost:8080/"
        },
        "id": "BZMagzO7-Fv3",
        "outputId": "b72e37f4-a930-4965-be87-8af14ea8f2d5"
      },
      "execution_count": null,
      "outputs": [
        {
          "output_type": "stream",
          "name": "stdout",
          "text": [
            "Qual seu nome? joão\n",
            "Qual a sua idade? 45\n",
            "Paciente joão tem 45 anos.\n"
          ]
        }
      ]
    },
    {
      "cell_type": "markdown",
      "source": [
        "**Questão 06**"
      ],
      "metadata": {
        "id": "M9kAOFr4wyOe"
      }
    },
    {
      "cell_type": "code",
      "source": [
        "lista = []\n",
        "for i in range(3):\n",
        "  pressao = float(input(\"digite a pressão arterial: \"))\n",
        "  lista.append(pressao)\n",
        "\n",
        "media = sum(lista)/3\n",
        "print(media)"
      ],
      "metadata": {
        "colab": {
          "base_uri": "https://localhost:8080/"
        },
        "id": "dwLFgdva-fk3",
        "outputId": "5b951276-8f2b-4512-844f-8228a274b9f9"
      },
      "execution_count": null,
      "outputs": [
        {
          "output_type": "stream",
          "name": "stdout",
          "text": [
            "digite a pressão arterial: 120\n",
            "digite a pressão arterial: 125\n",
            "digite a pressão arterial: 118\n",
            "121.0\n"
          ]
        }
      ]
    },
    {
      "cell_type": "markdown",
      "source": [
        "**Questão 07**"
      ],
      "metadata": {
        "id": "8jefmVNdw1Hg"
      }
    },
    {
      "cell_type": "code",
      "source": [
        "idade = int(input(\"qual a idade do paciente: \"))\n",
        "pressao = int(input(\"qual a pressao do paciente: \"))\n",
        "\n",
        "def eh_idoso_hipertenso(idade, pressao):\n",
        "  if idade >= 60 and pressao > 140:\n",
        "    return True\n",
        "  else:\n",
        "    return False\n",
        "\n",
        "eh_idoso_hipertenso(idade, pressao)"
      ],
      "metadata": {
        "colab": {
          "base_uri": "https://localhost:8080/"
        },
        "id": "UvVkO0FP_hPW",
        "outputId": "c3f692d4-9bfb-4656-857e-400944ad94d1"
      },
      "execution_count": null,
      "outputs": [
        {
          "name": "stdout",
          "output_type": "stream",
          "text": [
            "qual a idade do paciente: 56\n",
            "qual a pressao do paciente: 140\n"
          ]
        },
        {
          "output_type": "execute_result",
          "data": {
            "text/plain": [
              "False"
            ]
          },
          "metadata": {},
          "execution_count": 25
        }
      ]
    },
    {
      "cell_type": "markdown",
      "source": [
        "**Questão 08**"
      ],
      "metadata": {
        "id": "6pYJ6dLkw3e3"
      }
    },
    {
      "cell_type": "code",
      "source": [
        "idade = int(input(\"Qual a sua idade: \"))\n",
        "\n",
        "if 16 <= idade <= 69:\n",
        "  print(\"Pode doar\")\n",
        "else:\n",
        "  print(\"Não pode doar\")"
      ],
      "metadata": {
        "colab": {
          "base_uri": "https://localhost:8080/"
        },
        "id": "KTHkQr6D-5ym",
        "outputId": "ebb41191-b1c7-4323-b01c-110b23d74096"
      },
      "execution_count": null,
      "outputs": [
        {
          "output_type": "stream",
          "name": "stdout",
          "text": [
            "Qual a sua idade: 16\n",
            "Pode doar\n"
          ]
        }
      ]
    },
    {
      "cell_type": "markdown",
      "source": [
        "**Questão 09**"
      ],
      "metadata": {
        "id": "0Bu5kJjIw5YR"
      }
    },
    {
      "cell_type": "code",
      "source": [
        "valor = float(input(\"Valor de glicose em jejum: \"))\n",
        "if valor > 126:\n",
        "  print(type(valor))\n",
        "  print(\"Diabetes\")\n",
        "else:\n",
        "  print(\"Não diabético\")"
      ],
      "metadata": {
        "colab": {
          "base_uri": "https://localhost:8080/"
        },
        "id": "3p5An9iUAymu",
        "outputId": "ee3034ec-0c59-44bf-8ba3-a15938e2ce0a"
      },
      "execution_count": null,
      "outputs": [
        {
          "output_type": "stream",
          "name": "stdout",
          "text": [
            "Valor de glicose em jejum: 127\n",
            "<class 'float'>\n",
            "Diabetes\n"
          ]
        }
      ]
    },
    {
      "cell_type": "markdown",
      "source": [
        "**Questão 10**"
      ],
      "metadata": {
        "id": "yucppR-Yw7Wf"
      }
    },
    {
      "cell_type": "code",
      "source": [
        "temp1 = float(input(\"temperatura 1: \"))\n",
        "temp2 = float(input(\"temperatura 2: \"))\n",
        "\n",
        "dif = abs(temp1 - temp2)\n",
        "print(dif)"
      ],
      "metadata": {
        "colab": {
          "base_uri": "https://localhost:8080/"
        },
        "id": "YDq4cuY6BcVe",
        "outputId": "6e498474-e04e-4dfb-8fe8-5ed49961b0d6"
      },
      "execution_count": null,
      "outputs": [
        {
          "output_type": "stream",
          "name": "stdout",
          "text": [
            "temperatura 1: 36.7\n",
            "temperatura 2: 37.8\n",
            "1.0999999999999943\n"
          ]
        }
      ]
    },
    {
      "cell_type": "markdown",
      "source": [
        "**Questão 11**"
      ],
      "metadata": {
        "id": "M9MwvLCnw9Yv"
      }
    },
    {
      "cell_type": "code",
      "source": [
        "for i in range(60, 101, 10):\n",
        "  print(i)"
      ],
      "metadata": {
        "colab": {
          "base_uri": "https://localhost:8080/"
        },
        "id": "em2HSqxyCCp1",
        "outputId": "d19f0828-0dc8-44bf-aa1e-b44d406be649"
      },
      "execution_count": null,
      "outputs": [
        {
          "output_type": "stream",
          "name": "stdout",
          "text": [
            "60\n",
            "70\n",
            "80\n",
            "90\n",
            "100\n"
          ]
        }
      ]
    },
    {
      "cell_type": "markdown",
      "source": [
        "**Questão 12**"
      ],
      "metadata": {
        "id": "S5b4pZvIw_EP"
      }
    },
    {
      "cell_type": "code",
      "source": [
        "lista = []\n",
        "for i in range(3):\n",
        "  oxi = float(input(\"digite a pressão arterial: \"))\n",
        "  lista.append(oxi)\n",
        "\n",
        "print(sum(lista))"
      ],
      "metadata": {
        "colab": {
          "base_uri": "https://localhost:8080/"
        },
        "id": "aPU7x331CSss",
        "outputId": "7587de13-c9c6-4f95-b92a-9f7cda472ff9"
      },
      "execution_count": null,
      "outputs": [
        {
          "output_type": "stream",
          "name": "stdout",
          "text": [
            "digite a pressão arterial: 140\n",
            "digite a pressão arterial: 140\n",
            "digite a pressão arterial: 140\n",
            "420.0\n"
          ]
        }
      ]
    },
    {
      "cell_type": "markdown",
      "source": [
        "**Questão 13**"
      ],
      "metadata": {
        "id": "_ZtNzDEGxBVp"
      }
    },
    {
      "cell_type": "code",
      "source": [
        "qnt = int(input(\"quantidade de pessoas: \"))\n",
        "numero = 0\n",
        "for i in range(qnt):\n",
        "  valor = float(input(\"temperatura: \"))\n",
        "  if valor > 37.5:\n",
        "    numero += 1\n",
        "\n",
        "print(numero)"
      ],
      "metadata": {
        "colab": {
          "base_uri": "https://localhost:8080/"
        },
        "id": "E_nwktJ5C3VV",
        "outputId": "db6bc248-bee5-4890-e7ac-e7cd782e525e"
      },
      "execution_count": null,
      "outputs": [
        {
          "output_type": "stream",
          "name": "stdout",
          "text": [
            "quantidade de pessoas: 3\n",
            "temperatura: 40\n",
            "temperatura: 30\n",
            "temperatura: 38\n",
            "2\n"
          ]
        }
      ]
    },
    {
      "cell_type": "markdown",
      "source": [
        "**Questão 14**"
      ],
      "metadata": {
        "id": "WnWP6hPixDfX"
      }
    },
    {
      "cell_type": "code",
      "source": [
        "i = 0\n",
        "while i < 5:\n",
        "  i += 1\n",
        "  print(i)"
      ],
      "metadata": {
        "colab": {
          "base_uri": "https://localhost:8080/"
        },
        "id": "uAE9wDX_D_Bs",
        "outputId": "39b29673-5796-4dc0-b962-441a3a2b34a4"
      },
      "execution_count": null,
      "outputs": [
        {
          "output_type": "stream",
          "name": "stdout",
          "text": [
            "1\n",
            "2\n",
            "3\n",
            "4\n",
            "5\n"
          ]
        }
      ]
    },
    {
      "cell_type": "markdown",
      "source": [
        "**Questão 21**"
      ],
      "metadata": {
        "id": "MoqAHu4ixG2x"
      }
    },
    {
      "cell_type": "code",
      "source": [
        "peso = int(input(\"Qual o seu peso? \"))\n",
        "altura = float(input(\"Qual a sua altura? \"))\n",
        "\n",
        "def imc(peso, altura):\n",
        "  return peso/(altura**2)\n",
        "\n",
        "imc(peso, altura)"
      ],
      "metadata": {
        "colab": {
          "base_uri": "https://localhost:8080/"
        },
        "id": "ekIGULLmJ2aT",
        "outputId": "f7b83cd5-9526-48c6-a352-8d46791d89ce"
      },
      "execution_count": null,
      "outputs": [
        {
          "name": "stdout",
          "output_type": "stream",
          "text": [
            "Qual o seu peso? 45\n",
            "Qual a sua altura? 1.53\n"
          ]
        },
        {
          "output_type": "execute_result",
          "data": {
            "text/plain": [
              "19.223375624759708"
            ]
          },
          "metadata": {},
          "execution_count": 51
        }
      ]
    },
    {
      "cell_type": "markdown",
      "source": [
        "**Média, moda e mediana**"
      ],
      "metadata": {
        "id": "bqqR552BrsDQ"
      }
    },
    {
      "cell_type": "code",
      "source": [
        "import statistics\n",
        "lista = []\n",
        "for i in range(4):\n",
        "  questoes = int(input(f\"quantidade de questoes de aluno {i+1}: \"))\n",
        "  lista.append(questoes)\n",
        "\n",
        "media = sum(lista)/4\n",
        "lista.sort()\n",
        "mediana = (lista[1] + lista[2])/2\n",
        "moda = statistics.multimode(lista)\n",
        "\n",
        "print(f\"Média de questões da turma: {media}\")\n",
        "print(f\"Mediana da turma: {mediana}\")\n",
        "print(f\"Moda da turma: {moda}\")"
      ],
      "metadata": {
        "colab": {
          "base_uri": "https://localhost:8080/"
        },
        "id": "cut3ptuUEaqN",
        "outputId": "569371a5-42ba-4573-ebda-d9512de60169"
      },
      "execution_count": 4,
      "outputs": [
        {
          "output_type": "stream",
          "name": "stdout",
          "text": [
            "quantidade de questoes de aluno 1: 14\n",
            "quantidade de questoes de aluno 2: 11\n",
            "quantidade de questoes de aluno 3: 6\n",
            "quantidade de questoes de aluno 4: 6\n",
            "Média de questões da turma: 9.25\n",
            "Mediana da turma: 8.5\n",
            "Moda da turma: [6]\n"
          ]
        }
      ]
    }
  ]
}