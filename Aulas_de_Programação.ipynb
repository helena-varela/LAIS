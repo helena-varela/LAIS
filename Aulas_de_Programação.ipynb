{
  "nbformat": 4,
  "nbformat_minor": 0,
  "metadata": {
    "colab": {
      "provenance": [],
      "toc_visible": true,
      "authorship_tag": "ABX9TyMKCgI8P5n+saq4Z1GL6P6o"
    },
    "kernelspec": {
      "name": "python3",
      "display_name": "Python 3"
    },
    "language_info": {
      "name": "python"
    }
  },
  "cells": [
    {
      "cell_type": "markdown",
      "source": [
        "**Bubble Sort**"
      ],
      "metadata": {
        "id": "1UrRMKbE0D_z"
      }
    },
    {
      "cell_type": "code",
      "source": [
        "qnt_elementos = int(input(\"Qual a quantidade de elementos da sua lista? \"))\n",
        "lista = []\n",
        "\n",
        "print(\"Qual os elementos da sua lista? \")\n",
        "for i in range(qnt_elementos):\n",
        "  numeros = int(input())\n",
        "  lista.append(numeros)\n",
        "\n",
        "print(f\"Lista antes da Ordenação: {lista}\")\n",
        "for j in range(len(lista)):\n",
        "  for i in range(len(lista)-1):\n",
        "    if lista[i]>lista[i+1]:\n",
        "        lista[i], lista[i+1] = lista[i+1], lista[i]\n",
        "\n",
        "print(f\"Lista depois da Ordenação: {lista}\")"
      ],
      "metadata": {
        "colab": {
          "base_uri": "https://localhost:8080/"
        },
        "id": "O6wZhkVf0Ayb",
        "outputId": "866ca749-2ce5-4b61-d60d-3cc3d11d7005"
      },
      "execution_count": null,
      "outputs": [
        {
          "output_type": "stream",
          "name": "stdout",
          "text": [
            "Qual a quantidade de elementos da sua lista? 5\n",
            "Qual os elementos da sua lista? \n",
            "7\n",
            "2\n",
            "3\n",
            "10\n",
            "9\n",
            "Lista antes da Ordenação: [7, 2, 3, 10, 9]\n",
            "Lista depois da Ordenação: [2, 3, 7, 9, 10]\n"
          ]
        }
      ]
    },
    {
      "cell_type": "markdown",
      "source": [
        "**Lógica de um Algoritmo de Ordenação**"
      ],
      "metadata": {
        "id": "i5vXJnRB0o1y"
      }
    },
    {
      "cell_type": "code",
      "source": [
        "lista = [5, 2, 3]\n",
        "\n",
        "for i in lista:\n",
        "  if lista[0]>lista[1]:\n",
        "    lista[0], lista[1] = lista[1], lista[0]\n",
        "  elif lista[1]>lista[2]:\n",
        "    aux = lista[1]\n",
        "    lista[1], lista[2] = lista[2], lista[1]\n",
        "\n",
        "print(lista)"
      ],
      "metadata": {
        "id": "Yn8kBs2Q0m47"
      },
      "execution_count": null,
      "outputs": []
    },
    {
      "cell_type": "markdown",
      "source": [
        "**Função para exibir nome,  média e notas**\n"
      ],
      "metadata": {
        "id": "3H9cnsJzvPmk"
      }
    },
    {
      "cell_type": "code",
      "execution_count": null,
      "metadata": {
        "id": "s065fj7bvFyt"
      },
      "outputs": [],
      "source": [
        "nome = input(\"Qual o seu nome? \")\n",
        "qnt_nota = int(input(\"Qual a quantidade de notas? \"))\n",
        "\n",
        "notas = []\n",
        "for i in range(qnt_nota):\n",
        "  nota = float(input(f\"Digite a nota {i+1}: \"))\n",
        "  notas.append(nota)\n",
        "\n",
        "media = sum(notas)/qnt_nota\n",
        "notas.sort()\n",
        "\n",
        "def exibir(nome, media, notas):\n",
        "  print(f\"Olá, {nome.capitalize()}, sua média foi {media:.2f} e suas notas foram: \")\n",
        "  for i in notas:\n",
        "    print(i, end=' ')\n",
        "\n",
        "exibir(nome, media, notas)"
      ]
    },
    {
      "cell_type": "markdown",
      "source": [
        "**Cálculo de Finanças**"
      ],
      "metadata": {
        "id": "GW9sFTIMvnPs"
      }
    },
    {
      "cell_type": "code",
      "source": [
        "m = 500.00\n",
        "print(\"Mes 1 a 12\")\n",
        "for i in range(0,12):\n",
        "  m = m * 1.1\n",
        "  m = m + 500\n",
        "  print(f\"{m:.2f}\")\n",
        "\n",
        "n = m\n",
        "print(\"\\nMes 12 a 24\")\n",
        "for j in range(12, 24):\n",
        "  n = n * 1.1\n",
        "  n = n + 500\n",
        "  print(f\"{n:.2f}\")\n",
        "\n",
        "o = n\n",
        "print(\"\\nMes 24 a 48\")\n",
        "for j in range(24, 48):\n",
        "  o = o * 1.1\n",
        "  o = o + 500\n",
        "  print(f\"{o:.2f}\")"
      ],
      "metadata": {
        "id": "5R2X2NMwvlzV"
      },
      "execution_count": null,
      "outputs": []
    },
    {
      "cell_type": "markdown",
      "source": [
        "**Função**"
      ],
      "metadata": {
        "id": "LINDRfOkz3Fz"
      }
    },
    {
      "cell_type": "code",
      "source": [
        "def função(x, y):\n",
        "  \"\"\"retorna uma função f(x)=2(x)^y+3(x)+5\"\"\"\n",
        "  return 2*x**y + 3*x + 5\n",
        "\n",
        "função(2, 5)"
      ],
      "metadata": {
        "id": "bHNoY8K9zIWc"
      },
      "execution_count": null,
      "outputs": []
    },
    {
      "cell_type": "markdown",
      "source": [
        "**Identificar número par ou ímpar**"
      ],
      "metadata": {
        "id": "30GGwnTc2foK"
      }
    },
    {
      "cell_type": "code",
      "source": [
        "numero = int(input())\n",
        "\n",
        "if (numero%2 == 0):\n",
        "  print(\"é par\")\n",
        "  for n in range(2, numero, 2):\n",
        "    print(n)\n",
        "else:\n",
        "  print(\"é impar\")"
      ],
      "metadata": {
        "id": "rKdPzBJw2dqU"
      },
      "execution_count": null,
      "outputs": []
    },
    {
      "cell_type": "markdown",
      "source": [
        "**Funções com Dicionário**"
      ],
      "metadata": {
        "id": "VO0WsQ_2zwd8"
      }
    },
    {
      "cell_type": "code",
      "source": [
        "pessoa = {\n",
        "    \"nome\":\"jesse\",\n",
        "    \"idade\": 17,\n",
        "    \"altura\": 1.76,\n",
        "}\n",
        "\n",
        "pessoa.keys()\n",
        "pessoa.values()\n",
        "\n",
        "pessoa.items()\n",
        "for chave, valor in pessoa.items():\n",
        "  print(chave, \":\", valor)"
      ],
      "metadata": {
        "id": "FQNHtkD_zvzT"
      },
      "execution_count": null,
      "outputs": []
    }
  ]
}